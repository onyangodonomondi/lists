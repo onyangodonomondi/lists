{
 "cells": [
  {
   "cell_type": "code",
   "execution_count": 3,
   "id": "37f962cd",
   "metadata": {},
   "outputs": [
    {
     "name": "stdout",
     "output_type": "stream",
     "text": [
      "Don,  that was a great trick!\n",
      "\n",
      "Jack,  that was a great trick!\n",
      "\n",
      "Mercy,  that was a great trick!\n",
      "\n",
      "Angela,  that was a great trick!\n",
      "\n",
      "Vincent,  that was a great trick!\n",
      "\n",
      "Shadrack,  that was a great trick!\n",
      "\n",
      "Meshack,  that was a great trick!\n",
      "\n",
      "I want to thank all who participated in the show, it was a great one , till next time.\n"
     ]
    }
   ],
   "source": [
    "magicians=['Don', 'Jack','Mercy', 'Angela', 'Vincent', 'Shadrack', 'Meshack']\n",
    "\n",
    "for magician in magicians:\n",
    "    \n",
    "    print(f'{magician.title()},  that was a great trick!\\n')\n",
    "    \n",
    "print('I want to thank all who participated in the show, it was a great one , till next time.')"
   ]
  },
  {
   "cell_type": "code",
   "execution_count": 4,
   "id": "6da5ba5d",
   "metadata": {},
   "outputs": [
    {
     "name": "stdout",
     "output_type": "stream",
     "text": [
      "I love the taste of \n",
      "  vanilla\n",
      "I love the taste of \n",
      "   strawberry\n",
      "I love the taste of \n",
      "  chocolate\n",
      "These are my favorites tastes\n"
     ]
    }
   ],
   "source": [
    "cookies= ['vanilla', ' strawberry', 'chocolate']\n",
    "\n",
    "for cooky in cookies:\n",
    "    print('I love the taste of \\n ', cooky)\n",
    "    \n",
    "print('These are my favorites tastes')"
   ]
  },
  {
   "cell_type": "code",
   "execution_count": 5,
   "id": "dad7408d",
   "metadata": {},
   "outputs": [
    {
     "name": "stdout",
     "output_type": "stream",
     "text": [
      "i love to domesticate a cow\n",
      "i love to domesticate a goat\n",
      "i love to domesticate a sheep\n",
      "The good thing is,  all are domestic animals\n"
     ]
    }
   ],
   "source": [
    "animals=[ 'cow', 'goat', 'sheep']\n",
    "for animal in animals:\n",
    "    print('i love to domesticate a',  animal)\n",
    "print('The good thing is,  all are domestic animals')"
   ]
  },
  {
   "cell_type": "code",
   "execution_count": 5,
   "id": "20672fa9",
   "metadata": {},
   "outputs": [
    {
     "name": "stdout",
     "output_type": "stream",
     "text": [
      "1\n",
      "4\n",
      "9\n",
      "16\n",
      "25\n",
      "36\n",
      "49\n",
      "64\n",
      "81\n",
      "100\n"
     ]
    }
   ],
   "source": [
    "#Getting the Squares of number  in range of 1 to 10\n",
    "numbers=range(1,11)\n",
    "for number in numbers:\n",
    "    print(number**2)"
   ]
  }
 ],
 "metadata": {
  "interpreter": {
   "hash": "84f2526b7dc6cf579a402b077b3eb41059a378ce4477074824cbb079d454a8fd"
  },
  "kernelspec": {
   "display_name": "Python 3.10.2 64-bit",
   "language": "python",
   "name": "python3"
  },
  "language_info": {
   "codemirror_mode": {
    "name": "ipython",
    "version": 3
   },
   "file_extension": ".py",
   "mimetype": "text/x-python",
   "name": "python",
   "nbconvert_exporter": "python",
   "pygments_lexer": "ipython3",
   "version": "3.10.2"
  }
 },
 "nbformat": 4,
 "nbformat_minor": 5
}
